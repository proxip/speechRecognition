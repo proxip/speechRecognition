{
 "cells": [
  {
   "cell_type": "markdown",
   "metadata": {},
   "source": [
    "### Simple application of Speech to Text using Google Recognizer"
   ]
  },
  {
   "cell_type": "code",
   "execution_count": 1,
   "metadata": {},
   "outputs": [
    {
     "data": {
      "text/plain": [
       "'3.8.1'"
      ]
     },
     "execution_count": 1,
     "metadata": {},
     "output_type": "execute_result"
    }
   ],
   "source": [
    "import speech_recognition as sr\n",
    "import sounddevice as sd\n",
    "import soundfile as sf"
   ]
  },
  {
   "cell_type": "code",
   "execution_count": 37,
   "metadata": {},
   "outputs": [
    {
     "name": "stdout",
     "output_type": "stream",
     "text": [
      "Speak please ...\n",
      "Done!\n",
      "Sentence: Inteligência Artificial é um ramo da pesquisa da Ciência da Computação que se ocupa em desenvolver mecanismos e dispositivos tecnológicos que possam estimular o raciocínio humano\n"
     ]
    }
   ],
   "source": [
    "### Portuguese example\n",
    "def speakRecognition():\n",
    "    r = sr.Recognizer()\n",
    "    print(\"Speak please ...\")\n",
    "    with sr.Microphone() as source:\n",
    "        r.adjust_for_ambient_noise(source)\n",
    "        sentence = r.listen(source)\n",
    "    print(\"Done!\")\n",
    "    try: \n",
    "        text = r.recognize_google(sentence, language='pt') \n",
    "        print (\"Sentence: \" + text )\n",
    "        \n",
    "    except sr.UnknownValueError: \n",
    "        print(\"Google Speech Recognition could not understand audio\") \n",
    "    except sr.RequestError as e: \n",
    "        print(\"Could not request results from Google Speech Recognition service; {0}\".format(e))\n",
    "    \n",
    "    return sentence \n",
    "\n",
    "sentence = speakRecognition()"
   ]
  },
  {
   "cell_type": "code",
   "execution_count": 41,
   "metadata": {},
   "outputs": [
    {
     "name": "stdout",
     "output_type": "stream",
     "text": [
      "Speak please ...\n",
      "Done!\n",
      "The audio was saved successfully.\n"
     ]
    }
   ],
   "source": [
    "### English example\n",
    "def audioRecord():\n",
    "    samplerate = 48000  \n",
    "    duration =  6 # seconds\n",
    "    filename = 'audio.wav'\n",
    "    print(\"Speak please ...\")\n",
    "    mydata = sd.rec(int(samplerate * duration), samplerate=samplerate, channels=2, blocking=True)\n",
    "    print(\"Timeout!\")\n",
    "    sd.wait()\n",
    "    sf.write(filename, mydata, samplerate)\n",
    "    print(\"The audio was saved successfully.\")\n",
    "    \n",
    "    return filename\n",
    "\n",
    "filename = audioRecord()"
   ]
  },
  {
   "cell_type": "code",
   "execution_count": 60,
   "metadata": {},
   "outputs": [
    {
     "name": "stdout",
     "output_type": "stream",
     "text": [
      "big brown fox jumps over the lazy dog\n"
     ]
    }
   ],
   "source": [
    "def audioRecognition(filename):\n",
    "    r = sr.Recognizer()\n",
    "    audio = sr.AudioFile(filename)\n",
    "    with audio as source:\n",
    "        r.adjust_for_ambient_noise(source)\n",
    "        audio = r.record(source)\n",
    "\n",
    "    audio = r.recognize_google(audio)\n",
    "    print(audio)\n",
    "    \n",
    "audioRecognition(filename)"
   ]
  },
  {
   "cell_type": "code",
   "execution_count": 72,
   "metadata": {},
   "outputs": [],
   "source": [
    "def listenAudio(filename):\n",
    "    import winsound\n",
    "    winsound.PlaySound(filename, winsound.SND_ASYNC)\n",
    "    \n",
    "listenAudio(filename)    "
   ]
  },
  {
   "cell_type": "code",
   "execution_count": 1,
   "metadata": {},
   "outputs": [],
   "source": [
    "import speech_recognition as sr\n",
    "import webbrowser as wb\n",
    "\n",
    "r1 = sr.Recognizer()\n",
    "r2 = sr.Recognizer()\n",
    "r3 = sr.Recognizer()\n",
    "\n",
    "#Sample rate is how often values are recorded \n",
    "sample_rate = 48000"
   ]
  },
  {
   "cell_type": "code",
   "execution_count": null,
   "metadata": {},
   "outputs": [],
   "source": [
    "with sr.Microphone(sample_rate = sample_rate) as source:\n",
    "    print('Speak now')\n",
    "    audio = r3.listen(source)\n",
    "    r2.adjust_for_ambient_noise(source)\n",
    "    \n",
    "if 'hello' in r2.recognize_google(audio):\n",
    "    r2 = sr.Recognizer()\n",
    "    url = 'https://www.google.com/search?q='\n",
    "    \n",
    "    with sr.Microphone(sample_rate = sample_rate) as source:\n",
    "        r2.adjust_for_ambient_noise(source)\n",
    "        print(\"Search you query\")\n",
    "        audio = r2.listen(source)\n",
    "        \n",
    "        try:\n",
    "            get = r2.recognize_google(audio)\n",
    "            print(get)\n",
    "            wb.get().open_new(url+get)\n",
    "            \n",
    "        except sr.UnknownValueError:\n",
    "            print(\"Error\")\n",
    "        except sr.RequestError as e:\n",
    "            print(\"Failed\".format(e))"
   ]
  }
 ],
 "metadata": {
  "kernelspec": {
   "display_name": "Python 3",
   "language": "python",
   "name": "python3"
  },
  "language_info": {
   "codemirror_mode": {
    "name": "ipython",
    "version": 3
   },
   "file_extension": ".py",
   "mimetype": "text/x-python",
   "name": "python",
   "nbconvert_exporter": "python",
   "pygments_lexer": "ipython3",
   "version": "3.6.8"
  }
 },
 "nbformat": 4,
 "nbformat_minor": 2
}
